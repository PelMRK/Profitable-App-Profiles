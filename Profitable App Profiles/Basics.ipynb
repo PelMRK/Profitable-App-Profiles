{
 "cells": [
  {
   "cell_type": "markdown",
   "metadata": {},
   "source": [
    "# Exploring mobile apps in the App Store and Google Play Market\n",
    "This project is about researching for the most popular type of mobile apps among users. We'll take a look at two largest \"shopping centers of apps\": Play Market for Android and App Store for Apple devices.\n",
    "\n",
    "The aim of my first project is\n",
    "* to get practice of some kind of real data scientist work\n",
    "* to explore the massive of data we can have \n",
    "* to find any patterns, which could turn to be useful and profitable for business\n",
    "* to represent my basic speciality knowledges \n",
    "* to create a nice looking article for greater clarity of data scientists' occupation\n"
   ]
  },
  {
   "cell_type": "code",
   "execution_count": 2,
   "metadata": {},
   "outputs": [
    {
     "name": "stdout",
     "output_type": "stream",
     "text": [
      "Some apps from the App Store\n",
      "['284882215', 'Facebook', '389879808', 'USD', '0.0', '2974676', '212', '3.5', '3.5', '95.0', '4+', 'Social Networking', '37', '1', '29', '1'] \n",
      "\n",
      "['389801252', 'Instagram', '113954816', 'USD', '0.0', '2161558', '1289', '4.5', '4.0', '10.23', '12+', 'Photo & Video', '37', '0', '29', '1'] \n",
      "\n",
      "['529479190', 'Clash of Clans', '116476928', 'USD', '0.0', '2130805', '579', '4.5', '4.5', '9.24.12', '9+', 'Games', '38', '5', '18', '1'] \n",
      "\n",
      "['420009108', 'Temple Run', '65921024', 'USD', '0.0', '1724546', '3842', '4.5', '4.0', '1.6.2', '9+', 'Games', '40', '5', '1', '1'] \n",
      "\n",
      "['284035177', 'Pandora - Music & Radio', '130242560', 'USD', '0.0', '1126879', '3594', '4.0', '4.5', '8.4.1', '12+', 'Music', '37', '4', '1', '1'] \n",
      "\n",
      "Number of rows:  7197\n",
      "Number of columns:  16\n",
      "\n",
      "\n",
      "Some apps from the Play Market\n",
      "['Photo Editor & Candy Camera & Grid & ScrapBook', 'ART_AND_DESIGN', '4.1', '159', '19M', '10,000+', 'Free', '0', 'Everyone', 'Art & Design', 'January 7, 2018', '1.0.0', '4.0.3 and up'] \n",
      "\n",
      "['Coloring book moana', 'ART_AND_DESIGN', '3.9', '967', '14M', '500,000+', 'Free', '0', 'Everyone', 'Art & Design;Pretend Play', 'January 15, 2018', '2.0.0', '4.0.3 and up'] \n",
      "\n",
      "['U Launcher Lite – FREE Live Cool Themes, Hide Apps', 'ART_AND_DESIGN', '4.7', '87510', '8.7M', '5,000,000+', 'Free', '0', 'Everyone', 'Art & Design', 'August 1, 2018', '1.2.4', '4.0.3 and up'] \n",
      "\n",
      "['Sketch - Draw & Paint', 'ART_AND_DESIGN', '4.5', '215644', '25M', '50,000,000+', 'Free', '0', 'Teen', 'Art & Design', 'June 8, 2018', 'Varies with device', '4.2 and up'] \n",
      "\n",
      "['Pixel Draw - Number Art Coloring Book', 'ART_AND_DESIGN', '4.3', '967', '2.8M', '100,000+', 'Free', '0', 'Everyone', 'Art & Design;Creativity', 'June 20, 2018', '1.1', '4.4 and up'] \n",
      "\n",
      "Number of rows:  10841\n",
      "Number of columns:  13\n",
      "\n",
      "\n",
      "Column names of the App Store dataset\n",
      "['id', 'track_name', 'size_bytes', 'currency', 'price', 'rating_count_tot', 'rating_count_ver', 'user_rating', 'user_rating_ver', 'ver', 'cont_rating', 'prime_genre', 'sup_devices.num', 'ipadSc_urls.num', 'lang.num', 'vpp_lic']\n",
      "\n",
      "Column names of the Play Market dataset\n",
      "['App', 'Category', 'Rating', 'Reviews', 'Size', 'Installs', 'Type', 'Price', 'Content Rating', 'Genres', 'Last Updated', 'Current Ver', 'Android Ver']\n"
     ]
    }
   ],
   "source": [
    "def open_csv(string):\n",
    "    opened_file = open(string)\n",
    "    from csv import reader\n",
    "    read_file = reader(opened_file)\n",
    "    return list(read_file)\n",
    "\n",
    "app_store = open_csv('AppleStore.csv')\n",
    "\n",
    "play_market = open_csv('googleplaystore.csv')\n",
    "\n",
    "def explore_data(dataset, start, end, rows_and_columns = False):\n",
    "    dataset_slice = dataset[start:end]\n",
    "    for row in dataset_slice:\n",
    "        print(row, '\\n')\n",
    "        \n",
    "    if rows_and_columns:\n",
    "        print('Number of rows: ', len(dataset))\n",
    "        print('Number of columns: ', len(dataset[0]))\n",
    "        \n",
    "\n",
    "print('Some apps from the App Store')\n",
    "explore_data(app_store[1:], 0, 5, True)\n",
    "print('\\n\\nSome apps from the Play Market')\n",
    "explore_data(play_market[1:], 0, 5, True)\n",
    "\n",
    "print('\\n\\nColumn names of the App Store dataset')\n",
    "print(app_store[0])\n",
    "print('\\nColumn names of the Play Market dataset')\n",
    "print(play_market[0])\n",
    "            \n",
    "        "
   ]
  },
  {
   "cell_type": "markdown",
   "metadata": {},
   "source": [
    "Describes of each columns are in the primary sources - [App Store](https://www.kaggle.com/ramamet4/app-store-apple-data-set-10k-apps) and [Play Market](https://www.kaggle.com/lava18/google-play-store-apps)\n",
    "\n",
    "# Deleting wrong data"
   ]
  },
  {
   "cell_type": "code",
   "execution_count": 3,
   "metadata": {},
   "outputs": [
    {
     "name": "stdout",
     "output_type": "stream",
     "text": [
      "Mistake at  10473  string\n",
      "['Life Made WI-Fi Touchscreen Photo Frame', '1.9', '19', '3.0M', '1,000+', 'Free', '0', 'Everyone', '', 'February 11, 2018', '1.0.19', '4.0 and up']\n",
      "Wrong lenght:  12\n"
     ]
    }
   ],
   "source": [
    "#Let's check if there is some mistakes of column size in dataset\n",
    "def check_mistakes(dataset):\n",
    "    string = 0\n",
    "    for row in dataset:    \n",
    "        if len(row) != len(dataset[0]):\n",
    "            print(\"Mistake at \", string, \" string\")\n",
    "            print(row)\n",
    "            print(\"Wrong lenght: \", len(row))\n",
    "        string += 1\n",
    "        \n",
    "\n",
    "check_mistakes(play_market)"
   ]
  },
  {
   "cell_type": "markdown",
   "metadata": {},
   "source": [
    "We can see that one row misses a \"Category\" column. This time we'll remove it to leave clear data"
   ]
  },
  {
   "cell_type": "code",
   "execution_count": 4,
   "metadata": {},
   "outputs": [],
   "source": [
    "del play_market[10473]"
   ]
  },
  {
   "cell_type": "code",
   "execution_count": 5,
   "metadata": {},
   "outputs": [],
   "source": [
    "#Let's check if there is some mistakes of column size in dataset\n",
    "check_mistakes(app_store)"
   ]
  },
  {
   "cell_type": "markdown",
   "metadata": {},
   "source": [
    "Everything is clear with App Store dataset\n",
    "\n",
    "Nextly, check for any duplicate row in our data, and if find then will delete leaving the newest row (according to Number of reviews column)\n",
    "\n",
    "# Removing duplicate entries"
   ]
  },
  {
   "cell_type": "code",
   "execution_count": 6,
   "metadata": {},
   "outputs": [
    {
     "name": "stdout",
     "output_type": "stream",
     "text": [
      "Number of repeating apps:  1181\n",
      "\n",
      "Examples:  ['Quick PDF Scanner + OCR FREE', 'Box', 'Google My Business', 'ZOOM Cloud Meetings', 'join.me - Simple Meetings', 'Box', 'Zenefits', 'Google Ads', 'Google My Business', 'Slack', 'FreshBooks Classic', 'Insightly CRM', 'QuickBooks Accounting: Invoicing & Expenses', 'HipChat - Chat Built for Teams', 'Xero Accounting Software'] ...\n",
      "\n",
      "Length of set should be:  9659\n"
     ]
    }
   ],
   "source": [
    "def duplicate_check(dataset): \n",
    "    repeating_apps = []\n",
    "    unique_apps = []\n",
    "\n",
    "    for row in dataset[1:]:\n",
    "        name = row[0]\n",
    "        if name in unique_apps:\n",
    "            repeating_apps.append(name)\n",
    "        else:\n",
    "            unique_apps.append(name)\n",
    "\n",
    "    print('Number of repeating apps: ', len(repeating_apps))\n",
    "    print('\\nExamples: ', repeating_apps[:15], '...')\n",
    "    print('\\nLength of set should be: ', len(dataset[1:]) - len(repeating_apps))\n",
    "    \n",
    "    \n",
    "duplicate_check(play_market)"
   ]
  },
  {
   "cell_type": "code",
   "execution_count": 7,
   "metadata": {},
   "outputs": [
    {
     "name": "stdout",
     "output_type": "stream",
     "text": [
      "9659 rows\n"
     ]
    }
   ],
   "source": [
    "reviews_max = {}\n",
    "for row in play_market[1:]:\n",
    "    name = row[0]\n",
    "    n_reviews = float(row[3])\n",
    "    if name in reviews_max and reviews_max[name] < n_reviews:\n",
    "        reviews_max[name] = n_reviews\n",
    "    elif name not in reviews_max:\n",
    "        reviews_max[name] = n_reviews\n",
    "        \n",
    "print(len(reviews_max), 'rows')"
   ]
  },
  {
   "cell_type": "code",
   "execution_count": 8,
   "metadata": {},
   "outputs": [
    {
     "name": "stdout",
     "output_type": "stream",
     "text": [
      "9659 rows (apps) total left\n"
     ]
    }
   ],
   "source": [
    "android_clean = []\n",
    "already_added = []\n",
    "\n",
    "for row in play_market[1:]:\n",
    "    name = row[0]\n",
    "    n_reviews = float(row[3])\n",
    "    if n_reviews == reviews_max[name] and name not in already_added:\n",
    "        android_clean.append(row)\n",
    "        already_added.append(name)\n",
    "        \n",
    "print(len(android_clean), 'rows (apps) total left')"
   ]
  },
  {
   "cell_type": "markdown",
   "metadata": {},
   "source": [
    "By now we've got a new list of lists `android_clean` which contains unique apps without duplicates and mistakes"
   ]
  },
  {
   "cell_type": "code",
   "execution_count": 9,
   "metadata": {},
   "outputs": [
    {
     "name": "stdout",
     "output_type": "stream",
     "text": [
      "Number of repeating apps:  0\n",
      "\n",
      "Examples:  [] ...\n",
      "\n",
      "Length of set should be:  7197\n"
     ]
    }
   ],
   "source": [
    "duplicate_check(app_store)"
   ]
  },
  {
   "cell_type": "markdown",
   "metadata": {},
   "source": [
    "There is no duplicates in the App Store dataset\n",
    "\n",
    "Nextly, we'll exclude non-English named apps, because we aim on English-speaker auditory\n",
    "\n",
    "# Removing non-English apps"
   ]
  },
  {
   "cell_type": "code",
   "execution_count": 10,
   "metadata": {},
   "outputs": [],
   "source": [
    "def english_check(word):\n",
    "    bad_letters = []\n",
    "    for letter in word:\n",
    "        if ord(letter) > 127:\n",
    "            bad_letters.append(letter)\n",
    "            \n",
    "    if len(bad_letters) >= 3:\n",
    "        return False\n",
    "    elif len(bad_letters) < 3:\n",
    "            return True"
   ]
  },
  {
   "cell_type": "code",
   "execution_count": 11,
   "metadata": {},
   "outputs": [
    {
     "name": "stdout",
     "output_type": "stream",
     "text": [
      "True\n",
      "False\n",
      "True\n",
      "False\n"
     ]
    }
   ],
   "source": [
    "print(english_check('Instagram'))\n",
    "print(english_check('爱奇艺PPS -《欢乐颂2》电视剧热播'))\n",
    "print(english_check('™ Free Office Suite'))\n",
    "print(english_check('😜😜😜😜'))"
   ]
  },
  {
   "cell_type": "code",
   "execution_count": 12,
   "metadata": {},
   "outputs": [
    {
     "name": "stdout",
     "output_type": "stream",
     "text": [
      "9596 english apps for Android\n"
     ]
    }
   ],
   "source": [
    "eng_clean_android = []\n",
    "for row in android_clean[1:]:\n",
    "    if english_check(row[0]):\n",
    "        eng_clean_android.append(row)\n",
    "        \n",
    "print(len(eng_clean_android), 'english apps for Android')"
   ]
  },
  {
   "cell_type": "code",
   "execution_count": 13,
   "metadata": {},
   "outputs": [
    {
     "name": "stdout",
     "output_type": "stream",
     "text": [
      "6155 english apps for iOS\n"
     ]
    }
   ],
   "source": [
    "eng_clean_ios = []\n",
    "for row in app_store[1:]:\n",
    "    if english_check(row[1]):\n",
    "        eng_clean_ios.append(row)\n",
    "        \n",
    "print(len(eng_clean_ios), 'english apps for iOS')\n",
    "        \n",
    "    "
   ]
  },
  {
   "cell_type": "markdown",
   "metadata": {},
   "source": [
    "The last step to clean and prepare data is isolate only free apps for our aims of analysis\n",
    "\n",
    "# Isolating the Free apps"
   ]
  },
  {
   "cell_type": "code",
   "execution_count": 14,
   "metadata": {},
   "outputs": [
    {
     "name": "stdout",
     "output_type": "stream",
     "text": [
      "['Command & Conquer: Rivals', 'FAMILY', 'NaN', '0', 'Varies with device', '0', 'NaN', '0', 'Everyone 10+', 'Strategy', 'June 28, 2018', 'Varies with device', 'Varies with device']\n",
      "One string has NaN instead of Free, but it is the only mistake in this, so we confirm data\n",
      "8846 number of free android apps\n",
      "8845 testing number, should be equal\n"
     ]
    }
   ],
   "source": [
    "final_free_android = []\n",
    "test_1 = []\n",
    "\n",
    "for row in eng_clean_android[1:]:\n",
    "    if row[7] == '0':\n",
    "        final_free_android.append(row)\n",
    "    if row[6] == 'Free':\n",
    "        test_1.append(row)\n",
    "        \n",
    "    if row[7] == '0' and row[6] != 'Free':\n",
    "        print(row)\n",
    "        print('One string has NaN instead of Free, but it is the only mistake in this, so we confirm data')\n",
    "        \n",
    "print(len(final_free_android), 'number of free android apps')\n",
    "print(len(test_1), 'testing number, should be equal')"
   ]
  },
  {
   "cell_type": "code",
   "execution_count": 15,
   "metadata": {},
   "outputs": [
    {
     "name": "stdout",
     "output_type": "stream",
     "text": [
      "3202 number of free ios apps\n"
     ]
    }
   ],
   "source": [
    "final_free_ios = []\n",
    "\n",
    "for row in eng_clean_ios[1:]:\n",
    "    if row[4] == '0.0':\n",
    "        final_free_ios.append(row)\n",
    "        \n",
    "print(len(final_free_ios), 'number of free ios apps')\n"
   ]
  },
  {
   "cell_type": "markdown",
   "metadata": {},
   "source": [
    "--------\n",
    "A business plan of a project is as follow:\n",
    "* we plan to attract users with a free app\n",
    "* we set an in-app adds to get a revenue\n",
    "* the more the users, the more the revenue and profit\n",
    "* to provide more users, we explore for the most popular kind of apps\n",
    "\n",
    "A steps after:\n",
    "1. Build a minimal Android verson and add to Google Play\n",
    "2. If response is good, then develop further\n",
    "3. If profitable for 6 months, build an iOS version\n",
    "\n",
    "So, we have to find a category being worth to both markets\n",
    "\n",
    "Now, let's create a category frequency tables and display in descending order to analyse"
   ]
  },
  {
   "cell_type": "markdown",
   "metadata": {},
   "source": [
    "# Most common apps by genre"
   ]
  },
  {
   "cell_type": "code",
   "execution_count": 16,
   "metadata": {},
   "outputs": [],
   "source": [
    "def freq_table(dataset, index):\n",
    "    freq_dictionary = {}\n",
    "    for row in dataset[1:]:\n",
    "        category = row[index]\n",
    "        if category in freq_dictionary:\n",
    "            freq_dictionary[category] += 1\n",
    "        elif category not in freq_dictionary:\n",
    "            freq_dictionary[category] = 1\n",
    "            \n",
    "    return freq_dictionary"
   ]
  },
  {
   "cell_type": "code",
   "execution_count": 27,
   "metadata": {},
   "outputs": [],
   "source": [
    "def display_table(dataset, index):\n",
    "    table = freq_table(dataset, index)\n",
    "    table_display = []\n",
    "    for key in table:\n",
    "        key_val_as_tuple = (table[key], key)\n",
    "        table_display.append(key_val_as_tuple)\n",
    "    \n",
    "    table_sorted = sorted(table_display, reverse = True)\n",
    "    for entry in table_sorted:\n",
    "        print(entry[1], ':', entry[0])"
   ]
  },
  {
   "cell_type": "code",
   "execution_count": 18,
   "metadata": {},
   "outputs": [
    {
     "name": "stdout",
     "output_type": "stream",
     "text": [
      "Prime genres of App Store:\n",
      "Games : 1866\n",
      "Entertainment : 251\n",
      "Photo & Video : 159\n",
      "Education : 118\n",
      "Social Networking : 105\n",
      "Shopping : 83\n",
      "Utilities : 79\n",
      "Sports : 69\n",
      "Music : 66\n",
      "Health & Fitness : 65\n",
      "Productivity : 56\n",
      "Lifestyle : 50\n",
      "News : 43\n",
      "Travel : 40\n",
      "Finance : 35\n",
      "Weather : 28\n",
      "Food & Drink : 26\n",
      "Reference : 17\n",
      "Business : 17\n",
      "Book : 12\n",
      "Navigation : 6\n",
      "Medical : 6\n",
      "Catalogs : 4\n",
      "\n",
      "Genres of Play Market:\n",
      "Tools : 747\n",
      "Entertainment : 538\n",
      "Education : 474\n",
      "Business : 407\n",
      "Productivity : 345\n",
      "Lifestyle : 343\n",
      "Finance : 328\n",
      "Medical : 313\n",
      "Sports : 306\n",
      "Personalization : 294\n",
      "Communication : 286\n",
      "Action : 274\n",
      "Health & Fitness : 273\n",
      "Photography : 261\n",
      "News & Magazines : 248\n",
      "Social : 236\n",
      "Travel & Local : 206\n",
      "Shopping : 199\n",
      "Books & Reference : 189\n",
      "Simulation : 181\n",
      "Dating : 165\n",
      "Arcade : 163\n",
      "Video Players & Editors : 157\n",
      "Casual : 156\n",
      "Maps & Navigation : 123\n",
      "Food & Drink : 110\n",
      "Puzzle : 100\n",
      "Racing : 88\n",
      "Role Playing : 83\n",
      "Libraries & Demo : 83\n",
      "Auto & Vehicles : 82\n",
      "Strategy : 81\n",
      "House & Home : 71\n",
      "Weather : 70\n",
      "Events : 63\n",
      "Adventure : 59\n",
      "Comics : 53\n",
      "Beauty : 53\n",
      "Art & Design : 50\n",
      "Parenting : 44\n",
      "Card : 40\n",
      "Trivia : 37\n",
      "Casino : 37\n",
      "Educational;Education : 35\n",
      "Board : 34\n",
      "Educational : 33\n",
      "Education;Education : 30\n",
      "Word : 23\n",
      "Casual;Pretend Play : 21\n",
      "Music : 18\n",
      "Racing;Action & Adventure : 15\n",
      "Puzzle;Brain Games : 15\n",
      "Entertainment;Music & Video : 15\n",
      "Casual;Brain Games : 12\n",
      "Casual;Action & Adventure : 12\n",
      "Arcade;Action & Adventure : 11\n",
      "Action;Action & Adventure : 9\n",
      "Educational;Pretend Play : 8\n",
      "Simulation;Action & Adventure : 7\n",
      "Parenting;Education : 7\n",
      "Entertainment;Brain Games : 7\n",
      "Board;Brain Games : 7\n",
      "Parenting;Music & Video : 6\n",
      "Educational;Brain Games : 6\n",
      "Casual;Creativity : 6\n",
      "Art & Design;Creativity : 6\n",
      "Education;Pretend Play : 5\n",
      "Role Playing;Pretend Play : 4\n",
      "Education;Creativity : 4\n",
      "Role Playing;Action & Adventure : 3\n",
      "Puzzle;Action & Adventure : 3\n",
      "Entertainment;Creativity : 3\n",
      "Entertainment;Action & Adventure : 3\n",
      "Educational;Creativity : 3\n",
      "Educational;Action & Adventure : 3\n",
      "Education;Music & Video : 3\n",
      "Education;Brain Games : 3\n",
      "Education;Action & Adventure : 3\n",
      "Adventure;Action & Adventure : 3\n",
      "Video Players & Editors;Music & Video : 2\n",
      "Sports;Action & Adventure : 2\n",
      "Simulation;Pretend Play : 2\n",
      "Puzzle;Creativity : 2\n",
      "Music;Music & Video : 2\n",
      "Entertainment;Pretend Play : 2\n",
      "Casual;Education : 2\n",
      "Board;Action & Adventure : 2\n",
      "Video Players & Editors;Creativity : 1\n",
      "Trivia;Education : 1\n",
      "Travel & Local;Action & Adventure : 1\n",
      "Tools;Education : 1\n",
      "Strategy;Education : 1\n",
      "Strategy;Creativity : 1\n",
      "Strategy;Action & Adventure : 1\n",
      "Simulation;Education : 1\n",
      "Role Playing;Brain Games : 1\n",
      "Racing;Pretend Play : 1\n",
      "Puzzle;Education : 1\n",
      "Parenting;Brain Games : 1\n",
      "Music & Audio;Music & Video : 1\n",
      "Lifestyle;Pretend Play : 1\n",
      "Lifestyle;Education : 1\n",
      "Health & Fitness;Education : 1\n",
      "Health & Fitness;Action & Adventure : 1\n",
      "Entertainment;Education : 1\n",
      "Communication;Creativity : 1\n",
      "Comics;Creativity : 1\n",
      "Casual;Music & Video : 1\n",
      "Card;Action & Adventure : 1\n",
      "Books & Reference;Education : 1\n",
      "Art & Design;Pretend Play : 1\n",
      "Art & Design;Action & Adventure : 1\n",
      "Arcade;Pretend Play : 1\n",
      "Adventure;Education : 1\n",
      "\n",
      "Category of Play Market:\n",
      "FAMILY : 1676\n",
      "GAME : 858\n",
      "TOOLS : 748\n",
      "BUSINESS : 407\n",
      "PRODUCTIVITY : 345\n",
      "LIFESTYLE : 344\n",
      "FINANCE : 328\n",
      "MEDICAL : 313\n",
      "SPORTS : 300\n",
      "PERSONALIZATION : 294\n",
      "COMMUNICATION : 286\n",
      "HEALTH_AND_FITNESS : 273\n",
      "PHOTOGRAPHY : 261\n",
      "NEWS_AND_MAGAZINES : 248\n",
      "SOCIAL : 236\n",
      "TRAVEL_AND_LOCAL : 207\n",
      "SHOPPING : 199\n",
      "BOOKS_AND_REFERENCE : 189\n",
      "DATING : 165\n",
      "VIDEO_PLAYERS : 159\n",
      "MAPS_AND_NAVIGATION : 123\n",
      "FOOD_AND_DRINK : 110\n",
      "EDUCATION : 103\n",
      "ENTERTAINMENT : 85\n",
      "LIBRARIES_AND_DEMO : 83\n",
      "AUTO_AND_VEHICLES : 82\n",
      "HOUSE_AND_HOME : 71\n",
      "WEATHER : 70\n",
      "EVENTS : 63\n",
      "PARENTING : 58\n",
      "COMICS : 54\n",
      "ART_AND_DESIGN : 54\n",
      "BEAUTY : 53\n"
     ]
    }
   ],
   "source": [
    "print('Prime genres of App Store:')\n",
    "display_table(final_free_ios, 11)\n",
    "\n",
    "print('\\nGenres of Play Market:')\n",
    "display_table(final_free_android, 9)\n",
    "print('\\nCategory of Play Market:')\n",
    "display_table(final_free_android, 1)"
   ]
  },
  {
   "cell_type": "markdown",
   "metadata": {},
   "source": [
    "The frequency tables we get show us that the App Store is dominated by apps designed for fun, while Play Market has balanced fun and practical apps.\n",
    "\n",
    "We can also find the most popular one by using the average number of installs or rates for each app genre.\n",
    "\n",
    "# Most Popular Apps by Genre on the App Store"
   ]
  },
  {
   "cell_type": "code",
   "execution_count": 26,
   "metadata": {},
   "outputs": [
    {
     "name": "stdout",
     "output_type": "stream",
     "text": [
      "Games  :  22886.36709539121\n",
      "Music  :  57326.530303030304\n",
      "Social Networking  :  43899.514285714286\n",
      "Reference  :  79350.4705882353\n",
      "Health & Fitness  :  23298.015384615384\n",
      "Weather  :  52279.892857142855\n",
      "Utilities  :  19156.493670886077\n",
      "Travel  :  28243.8\n",
      "Shopping  :  27230.734939759037\n",
      "News  :  21248.023255813954\n",
      "Navigation  :  86090.33333333333\n",
      "Lifestyle  :  16815.48\n",
      "Photo & Video  :  28441.54375\n",
      "Entertainment  :  14195.358565737051\n",
      "Food & Drink  :  33333.92307692308\n",
      "Sports  :  23008.898550724636\n",
      "Book  :  46384.916666666664\n",
      "Finance  :  32367.02857142857\n",
      "Education  :  7003.983050847458\n",
      "Productivity  :  21028.410714285714\n",
      "Business  :  7491.117647058823\n",
      "Catalogs  :  4004.0\n",
      "Medical  :  612.0\n",
      "\n",
      "Navigation category has the hottest rates amount! A bit surprising \n",
      "A Reference is also good\n"
     ]
    }
   ],
   "source": [
    "prime_genres_freq = freq_table(final_free_ios, 11)\n",
    "\n",
    "for genre in prime_genres_freq:\n",
    "    total = 0\n",
    "    len_genre = 0\n",
    "    \n",
    "    for row in final_free_ios:\n",
    "        genre_app = row[11]\n",
    "        if genre_app == genre:\n",
    "            ratings_num = float(row[5])\n",
    "            total += ratings_num\n",
    "            len_genre += 1\n",
    "            \n",
    "    average_ratings = total / len_genre\n",
    "    print(genre, ' : ', average_ratings)\n",
    "    \n",
    "print('\\nNavigation category has the hottest rates amount! A bit surprising ')\n",
    "print('A Reference is also good')"
   ]
  },
  {
   "cell_type": "markdown",
   "metadata": {},
   "source": [
    "# Most Popular Apps by Genre on Google Play"
   ]
  },
  {
   "cell_type": "code",
   "execution_count": 20,
   "metadata": {},
   "outputs": [
    {
     "name": "stdout",
     "output_type": "stream",
     "text": [
      "ART_AND_DESIGN  :  1967474.5454545454\n",
      "AUTO_AND_VEHICLES  :  647317.8170731707\n",
      "BEAUTY  :  513151.88679245283\n",
      "BOOKS_AND_REFERENCE  :  8814199.78835979\n",
      "BUSINESS  :  1712290.1474201474\n",
      "COMICS  :  832613.8888888889\n",
      "COMMUNICATION  :  38590581.08741259\n",
      "DATING  :  854028.8303030303\n",
      "EDUCATION  :  1833495.145631068\n",
      "ENTERTAINMENT  :  11640705.88235294\n",
      "EVENTS  :  253542.22222222222\n",
      "FINANCE  :  1387692.475609756\n",
      "FOOD_AND_DRINK  :  1924897.7363636363\n",
      "HEALTH_AND_FITNESS  :  4188821.9853479853\n",
      "HOUSE_AND_HOME  :  1360598.042253521\n",
      "LIBRARIES_AND_DEMO  :  638503.734939759\n",
      "LIFESTYLE  :  1446158.2238372094\n",
      "GAME  :  15544014.51048951\n",
      "FAMILY  :  3695641.8198090694\n",
      "MEDICAL  :  120550.61980830671\n",
      "SOCIAL  :  23253652.127118643\n",
      "SHOPPING  :  7036877.311557789\n",
      "PHOTOGRAPHY  :  17840110.40229885\n",
      "SPORTS  :  3650602.276666667\n",
      "TRAVEL_AND_LOCAL  :  13984077.710144928\n",
      "TOOLS  :  10830251.970588235\n",
      "PERSONALIZATION  :  5201482.6122448975\n",
      "PRODUCTIVITY  :  16787331.344927534\n",
      "PARENTING  :  542603.6206896552\n",
      "WEATHER  :  5145550.285714285\n",
      "VIDEO_PLAYERS  :  24727872.452830188\n",
      "NEWS_AND_MAGAZINES  :  9549178.467741935\n",
      "MAPS_AND_NAVIGATION  :  4049274.6341463416\n",
      "\n",
      "Communication category is most frequently installed!\n",
      "Entertainment, Game, Social, Photography, Travel, Tools, Productivity and Video players are also good\n"
     ]
    }
   ],
   "source": [
    "category_freq = freq_table(final_free_android, 1)\n",
    "\n",
    "for category in category_freq:\n",
    "    total = 0\n",
    "    len_category = 0\n",
    "    \n",
    "    for row in final_free_android:\n",
    "        category_app = row[1]\n",
    "        if category_app == category:\n",
    "            installs_num = (row[5]).replace(',', '')\n",
    "            installs_num = float(installs_num.replace('+', ''))\n",
    "            total += installs_num\n",
    "            len_category += 1\n",
    "            \n",
    "    average_installs = total / len_category\n",
    "    print(category, ' : ', average_installs)\n",
    "    \n",
    "print('\\nCommunication category is most frequently installed!')\n",
    "print('Entertainment, Game, Social, Photography, Travel, Tools, Productivity and Video players are also good')"
   ]
  },
  {
   "cell_type": "code",
   "execution_count": 24,
   "metadata": {},
   "outputs": [
    {
     "name": "stdout",
     "output_type": "stream",
     "text": [
      "Art & Design;Creativity  :  285000.0\n",
      "Art & Design  :  2107864.705882353\n",
      "Auto & Vehicles  :  647317.8170731707\n",
      "Beauty  :  513151.88679245283\n",
      "Books & Reference  :  8814199.78835979\n",
      "Business  :  1712290.1474201474\n",
      "Comics  :  847380.1886792453\n",
      "Comics;Creativity  :  50000.0\n",
      "Communication  :  38590581.08741259\n",
      "Dating  :  854028.8303030303\n",
      "Education  :  550185.4430379746\n",
      "Education;Creativity  :  2875000.0\n",
      "Education;Education  :  4759517.0\n",
      "Education;Pretend Play  :  1800000.0\n",
      "Education;Brain Games  :  5333333.333333333\n",
      "Entertainment  :  5602792.775092937\n",
      "Entertainment;Brain Games  :  3314285.714285714\n",
      "Entertainment;Creativity  :  4000000.0\n",
      "Entertainment;Music & Video  :  6413333.333333333\n",
      "Events  :  253542.22222222222\n",
      "Finance  :  1387692.475609756\n",
      "Food & Drink  :  1924897.7363636363\n",
      "Health & Fitness  :  4188821.9853479853\n",
      "House & Home  :  1360598.042253521\n",
      "Libraries & Demo  :  638503.734939759\n",
      "Lifestyle  :  1421219.9096209912\n",
      "Lifestyle;Pretend Play  :  10000000.0\n",
      "Card  :  3815462.5\n",
      "Arcade  :  23028171.411042944\n",
      "Puzzle  :  8302861.91\n",
      "Racing  :  15910645.681818182\n",
      "Sports  :  4611701.5784313725\n",
      "Casual  :  19569221.602564104\n",
      "Simulation  :  3475484.08839779\n",
      "Adventure  :  4158764.745762712\n",
      "Trivia  :  3475712.7027027025\n",
      "Action  :  12467105.620437955\n",
      "Word  :  9094458.695652174\n",
      "Role Playing  :  3965645.421686747\n",
      "Strategy  :  11199902.530864198\n",
      "Board  :  4759209.117647059\n",
      "Music  :  9445583.333333334\n",
      "Action;Action & Adventure  :  5888888.888888889\n",
      "Casual;Brain Games  :  1425916.6666666667\n",
      "Educational;Creativity  :  2333333.3333333335\n",
      "Puzzle;Brain Games  :  9280666.666666666\n",
      "Educational;Education  :  1737143.142857143\n",
      "Casual;Pretend Play  :  6957142.857142857\n",
      "Educational;Brain Games  :  4433333.333333333\n",
      "Art & Design;Pretend Play  :  500000.0\n",
      "Educational;Pretend Play  :  9375000.0\n",
      "Entertainment;Education  :  1000000.0\n",
      "Casual;Education  :  1000000.0\n",
      "Casual;Creativity  :  5333333.333333333\n",
      "Casual;Action & Adventure  :  12916666.666666666\n",
      "Music;Music & Video  :  5050000.0\n",
      "Arcade;Pretend Play  :  1000000.0\n",
      "Adventure;Action & Adventure  :  35333333.333333336\n",
      "Role Playing;Action & Adventure  :  7000000.0\n",
      "Simulation;Pretend Play  :  550000.0\n",
      "Puzzle;Creativity  :  750000.0\n",
      "Simulation;Action & Adventure  :  4857142.857142857\n",
      "Racing;Action & Adventure  :  8816666.666666666\n",
      "Sports;Action & Adventure  :  5050000.0\n",
      "Educational;Action & Adventure  :  17016666.666666668\n",
      "Arcade;Action & Adventure  :  3190909.1818181816\n",
      "Entertainment;Action & Adventure  :  2333333.3333333335\n",
      "Art & Design;Action & Adventure  :  100000.0\n",
      "Puzzle;Action & Adventure  :  18366666.666666668\n",
      "Education;Action & Adventure  :  1000000.0\n",
      "Strategy;Action & Adventure  :  1000000.0\n",
      "Music & Audio;Music & Video  :  500000.0\n",
      "Health & Fitness;Education  :  100000.0\n",
      "Board;Action & Adventure  :  3000000.0\n",
      "Board;Brain Games  :  407142.85714285716\n",
      "Casual;Music & Video  :  10000000.0\n",
      "Education;Music & Video  :  2033333.3333333333\n",
      "Role Playing;Pretend Play  :  5275000.0\n",
      "Entertainment;Pretend Play  :  3000000.0\n",
      "Medical  :  120550.61980830671\n",
      "Social  :  23253652.127118643\n",
      "Shopping  :  7036877.311557789\n",
      "Photography  :  17840110.40229885\n",
      "Travel & Local  :  14051476.145631067\n",
      "Travel & Local;Action & Adventure  :  100000.0\n",
      "Tools  :  10831363.41900937\n",
      "Tools;Education  :  10000000.0\n",
      "Personalization  :  5201482.6122448975\n",
      "Productivity  :  16787331.344927534\n",
      "Parenting  :  467977.5\n",
      "Parenting;Music & Video  :  1118333.3333333333\n",
      "Parenting;Education  :  452857.14285714284\n",
      "Parenting;Brain Games  :  1000000.0\n",
      "Weather  :  5145550.285714285\n",
      "Video Players & Editors  :  24947335.796178345\n",
      "Video Players & Editors;Music & Video  :  7500000.0\n",
      "Video Players & Editors;Creativity  :  5000000.0\n",
      "News & Magazines  :  9549178.467741935\n",
      "Maps & Navigation  :  4049274.6341463416\n",
      "Health & Fitness;Action & Adventure  :  1000000.0\n",
      "Educational  :  411184.8484848485\n",
      "Casino  :  3520421.621621622\n",
      "Trivia;Education  :  100.0\n",
      "Lifestyle;Education  :  100000.0\n",
      "Card;Action & Adventure  :  10000000.0\n",
      "Books & Reference;Education  :  1000.0\n",
      "Simulation;Education  :  500.0\n",
      "Puzzle;Education  :  100000.0\n",
      "Adventure;Education  :  10000000.0\n",
      "Role Playing;Brain Games  :  10000000.0\n",
      "Strategy;Education  :  500000.0\n",
      "Racing;Pretend Play  :  1000000.0\n",
      "Communication;Creativity  :  500000.0\n",
      "Strategy;Creativity  :  1000000.0\n",
      "\n",
      "The Socials group would be a good choice\n"
     ]
    }
   ],
   "source": [
    "genre_freq = freq_table(final_free_android, 9)\n",
    "\n",
    "for genre in genre_freq:\n",
    "    total = 0\n",
    "    len_genre = 0\n",
    "    \n",
    "    for row in final_free_android:\n",
    "        genre_app = row[9]\n",
    "        if genre_app == genre:\n",
    "            installs_num = (row[5]).replace(',', '')\n",
    "            installs_num = float(installs_num.replace('+', ''))\n",
    "            total += installs_num\n",
    "            len_genre += 1\n",
    "            \n",
    "    average_installs = total / len_genre\n",
    "    print(genre, ' : ', average_installs)\n",
    "    \n",
    "print('\\nThe Socials group would be a good choice')"
   ]
  },
  {
   "cell_type": "markdown",
   "metadata": {},
   "source": [
    " **Summary, I would confidently advise a Social Media sphere** according to balance between popularity, frequency, installations and ratings on both platforms"
   ]
  },
  {
   "cell_type": "markdown",
   "metadata": {},
   "source": [
    "# Conclusion\n",
    "In this small project we analyzed data about the App Store and Google Play mobile apps with the goal of practice and recommending an app profile that can be profitable for both markets.\n",
    "\n",
    "We concluded that creating a new social web or media with some special features like high level of confidentiality and safety can occure a profitable and succesful start up"
   ]
  }
 ],
 "metadata": {
  "kernelspec": {
   "display_name": "Python 3",
   "language": "python",
   "name": "python3"
  },
  "language_info": {
   "codemirror_mode": {
    "name": "ipython",
    "version": 3
   },
   "file_extension": ".py",
   "mimetype": "text/x-python",
   "name": "python",
   "nbconvert_exporter": "python",
   "pygments_lexer": "ipython3",
   "version": "3.8.2"
  }
 },
 "nbformat": 4,
 "nbformat_minor": 2
}
